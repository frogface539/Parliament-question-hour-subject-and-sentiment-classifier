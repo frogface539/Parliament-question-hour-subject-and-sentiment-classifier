{
 "cells": [
  {
   "cell_type": "code",
   "execution_count": 23,
   "id": "3088e4f8",
   "metadata": {},
   "outputs": [],
   "source": [
    "import pandas as pd\n",
    "import numpy as np\n",
    "import seaborn as sns\n",
    "import matplotlib.pyplot as plt\n",
    "import nltk\n",
    "import re"
   ]
  },
  {
   "cell_type": "code",
   "execution_count": 24,
   "id": "a9330b97",
   "metadata": {},
   "outputs": [
    {
     "name": "stderr",
     "output_type": "stream",
     "text": [
      "[nltk_data] Downloading package stopwords to C:\\Users\\LAKSHAY\n",
      "[nltk_data]     JAIN\\AppData\\Roaming\\nltk_data...\n",
      "[nltk_data]   Package stopwords is already up-to-date!\n"
     ]
    },
    {
     "data": {
      "text/plain": [
       "True"
      ]
     },
     "execution_count": 24,
     "metadata": {},
     "output_type": "execute_result"
    }
   ],
   "source": [
    "nltk.download('stopwords')"
   ]
  },
  {
   "cell_type": "code",
   "execution_count": 25,
   "id": "aacae286",
   "metadata": {},
   "outputs": [],
   "source": [
    "from nltk.corpus import stopwords\n",
    "stop_words = set(stopwords.words('english'))"
   ]
  },
  {
   "cell_type": "code",
   "execution_count": 26,
   "id": "dcfd6979",
   "metadata": {},
   "outputs": [],
   "source": [
    "df = pd.read_csv(\"../data/TCPD_QH.tsv\", sep=\"\\t\")"
   ]
  },
  {
   "cell_type": "code",
   "execution_count": 27,
   "id": "ce5d872a",
   "metadata": {},
   "outputs": [
    {
     "data": {
      "text/html": [
       "<div>\n",
       "<style scoped>\n",
       "    .dataframe tbody tr th:only-of-type {\n",
       "        vertical-align: middle;\n",
       "    }\n",
       "\n",
       "    .dataframe tbody tr th {\n",
       "        vertical-align: top;\n",
       "    }\n",
       "\n",
       "    .dataframe thead th {\n",
       "        text-align: right;\n",
       "    }\n",
       "</style>\n",
       "<table border=\"1\" class=\"dataframe\">\n",
       "  <thead>\n",
       "    <tr style=\"text-align: right;\">\n",
       "      <th></th>\n",
       "      <th>id</th>\n",
       "      <th>date</th>\n",
       "      <th>ls_number</th>\n",
       "      <th>ministry</th>\n",
       "      <th>question_type</th>\n",
       "      <th>question_text</th>\n",
       "      <th>answer_text</th>\n",
       "      <th>member</th>\n",
       "      <th>party</th>\n",
       "      <th>state</th>\n",
       "      <th>constituency</th>\n",
       "      <th>constituency_type</th>\n",
       "      <th>gender</th>\n",
       "      <th>subject</th>\n",
       "      <th>link</th>\n",
       "    </tr>\n",
       "  </thead>\n",
       "  <tbody>\n",
       "    <tr>\n",
       "      <th>0</th>\n",
       "      <td>10173416</td>\n",
       "      <td>2017-08-02T00:00:00</td>\n",
       "      <td>16</td>\n",
       "      <td>Railways</td>\n",
       "      <td>Unstarred</td>\n",
       "      <td>(a) the number of cases which came to notice w...</td>\n",
       "      <td>MINISTER OF STATE IN THE MINISTRY OF RAILWAYS ...</td>\n",
       "      <td>RAJESH VERMA</td>\n",
       "      <td>BJP</td>\n",
       "      <td>Uttar Pradesh</td>\n",
       "      <td>Sitapur</td>\n",
       "      <td>GEN</td>\n",
       "      <td>Male</td>\n",
       "      <td>Cases of Fighting/Quarrels in Trains</td>\n",
       "      <td>https://loksabha.nic.in/Questions/QResult15.as...</td>\n",
       "    </tr>\n",
       "    <tr>\n",
       "      <th>1</th>\n",
       "      <td>10173216</td>\n",
       "      <td>2017-08-02T00:00:00</td>\n",
       "      <td>16</td>\n",
       "      <td>Information and Broadcasting</td>\n",
       "      <td>Unstarred</td>\n",
       "      <td>(a) the salient features of the Community Radi...</td>\n",
       "      <td>THE MINISTER OF STATE OF THE MINISTRY OF INFOR...</td>\n",
       "      <td>B. SREERAMULU</td>\n",
       "      <td>BJP</td>\n",
       "      <td>Karnataka</td>\n",
       "      <td>Bellary</td>\n",
       "      <td>ST</td>\n",
       "      <td>Male</td>\n",
       "      <td>Community Radio Station</td>\n",
       "      <td>https://loksabha.nic.in/Questions/QResult15.as...</td>\n",
       "    </tr>\n",
       "    <tr>\n",
       "      <th>2</th>\n",
       "      <td>10173116</td>\n",
       "      <td>2017-08-02T00:00:00</td>\n",
       "      <td>16</td>\n",
       "      <td>Skill Development and Entrepreneurship</td>\n",
       "      <td>Unstarred</td>\n",
       "      <td>(a) whether the India International Skill Cent...</td>\n",
       "      <td>(a) to (e) As on date 14 India International S...</td>\n",
       "      <td>MEENAKASHI LEKHI, RAVINDRA KUMAR PANDEY</td>\n",
       "      <td>BJP, BJP</td>\n",
       "      <td>Delhi, Jharkhand</td>\n",
       "      <td>New delhi, Giridih</td>\n",
       "      <td>GEN, GEN</td>\n",
       "      <td>Female, Male</td>\n",
       "      <td>India International Skill Centre</td>\n",
       "      <td>https://loksabha.nic.in/Questions/QResult15.as...</td>\n",
       "    </tr>\n",
       "    <tr>\n",
       "      <th>3</th>\n",
       "      <td>10173016</td>\n",
       "      <td>2017-08-02T00:00:00</td>\n",
       "      <td>16</td>\n",
       "      <td>Housing and Urban Affairs</td>\n",
       "      <td>Unstarred</td>\n",
       "      <td>Will the Minister of HOUSING AND URBAN AFFAIRS...</td>\n",
       "      <td>THE MINISTER OF STATE IN THE MINISTRY OF HOUSI...</td>\n",
       "      <td>RAJENDRAN S</td>\n",
       "      <td>ADMK</td>\n",
       "      <td>Tamil Nadu</td>\n",
       "      <td>Viluppuram</td>\n",
       "      <td>SC</td>\n",
       "      <td>Male</td>\n",
       "      <td>MoU with Reckitt Benckiser</td>\n",
       "      <td>https://loksabha.nic.in/Questions/QResult15.as...</td>\n",
       "    </tr>\n",
       "    <tr>\n",
       "      <th>4</th>\n",
       "      <td>10172916</td>\n",
       "      <td>2017-08-02T00:00:00</td>\n",
       "      <td>16</td>\n",
       "      <td>Minority Affairs</td>\n",
       "      <td>Unstarred</td>\n",
       "      <td>(a) whether the Government proposes to carry o...</td>\n",
       "      <td>MINISTER OF STATE (INDEPENDENT CHARGE) FOR MIN...</td>\n",
       "      <td>DILIP PATEL</td>\n",
       "      <td>BJP</td>\n",
       "      <td>Gujarat</td>\n",
       "      <td>Anand</td>\n",
       "      <td>GEN</td>\n",
       "      <td>Male</td>\n",
       "      <td>Employment Surveys</td>\n",
       "      <td>https://loksabha.nic.in/Questions/QResult15.as...</td>\n",
       "    </tr>\n",
       "  </tbody>\n",
       "</table>\n",
       "</div>"
      ],
      "text/plain": [
       "         id                 date  ls_number  \\\n",
       "0  10173416  2017-08-02T00:00:00         16   \n",
       "1  10173216  2017-08-02T00:00:00         16   \n",
       "2  10173116  2017-08-02T00:00:00         16   \n",
       "3  10173016  2017-08-02T00:00:00         16   \n",
       "4  10172916  2017-08-02T00:00:00         16   \n",
       "\n",
       "                                 ministry question_type  \\\n",
       "0                                Railways     Unstarred   \n",
       "1            Information and Broadcasting     Unstarred   \n",
       "2  Skill Development and Entrepreneurship     Unstarred   \n",
       "3               Housing and Urban Affairs     Unstarred   \n",
       "4                        Minority Affairs     Unstarred   \n",
       "\n",
       "                                       question_text  \\\n",
       "0  (a) the number of cases which came to notice w...   \n",
       "1  (a) the salient features of the Community Radi...   \n",
       "2  (a) whether the India International Skill Cent...   \n",
       "3  Will the Minister of HOUSING AND URBAN AFFAIRS...   \n",
       "4  (a) whether the Government proposes to carry o...   \n",
       "\n",
       "                                         answer_text  \\\n",
       "0  MINISTER OF STATE IN THE MINISTRY OF RAILWAYS ...   \n",
       "1  THE MINISTER OF STATE OF THE MINISTRY OF INFOR...   \n",
       "2  (a) to (e) As on date 14 India International S...   \n",
       "3  THE MINISTER OF STATE IN THE MINISTRY OF HOUSI...   \n",
       "4  MINISTER OF STATE (INDEPENDENT CHARGE) FOR MIN...   \n",
       "\n",
       "                                    member     party             state  \\\n",
       "0                             RAJESH VERMA       BJP     Uttar Pradesh   \n",
       "1                            B. SREERAMULU       BJP         Karnataka   \n",
       "2  MEENAKASHI LEKHI, RAVINDRA KUMAR PANDEY  BJP, BJP  Delhi, Jharkhand   \n",
       "3                              RAJENDRAN S      ADMK        Tamil Nadu   \n",
       "4                              DILIP PATEL       BJP           Gujarat   \n",
       "\n",
       "         constituency constituency_type        gender  \\\n",
       "0             Sitapur               GEN          Male   \n",
       "1             Bellary                ST          Male   \n",
       "2  New delhi, Giridih          GEN, GEN  Female, Male   \n",
       "3          Viluppuram                SC          Male   \n",
       "4               Anand               GEN          Male   \n",
       "\n",
       "                                subject  \\\n",
       "0  Cases of Fighting/Quarrels in Trains   \n",
       "1               Community Radio Station   \n",
       "2      India International Skill Centre   \n",
       "3            MoU with Reckitt Benckiser   \n",
       "4                    Employment Surveys   \n",
       "\n",
       "                                                link  \n",
       "0  https://loksabha.nic.in/Questions/QResult15.as...  \n",
       "1  https://loksabha.nic.in/Questions/QResult15.as...  \n",
       "2  https://loksabha.nic.in/Questions/QResult15.as...  \n",
       "3  https://loksabha.nic.in/Questions/QResult15.as...  \n",
       "4  https://loksabha.nic.in/Questions/QResult15.as...  "
      ]
     },
     "execution_count": 27,
     "metadata": {},
     "output_type": "execute_result"
    }
   ],
   "source": [
    "df.head()"
   ]
  },
  {
   "cell_type": "code",
   "execution_count": 28,
   "id": "6f3068de",
   "metadata": {},
   "outputs": [
    {
     "data": {
      "text/plain": [
       "(298293, 15)"
      ]
     },
     "execution_count": 28,
     "metadata": {},
     "output_type": "execute_result"
    }
   ],
   "source": [
    "df.shape"
   ]
  },
  {
   "cell_type": "code",
   "execution_count": 29,
   "id": "caa7f5ca",
   "metadata": {},
   "outputs": [],
   "source": [
    "df = df[['question_text', 'subject']] ## predicition basis\n",
    "df.dropna(inplace=True)"
   ]
  },
  {
   "cell_type": "code",
   "execution_count": 30,
   "id": "9a9aa1e0",
   "metadata": {},
   "outputs": [],
   "source": [
    "df.reset_index(drop=True, inplace=True)"
   ]
  },
  {
   "cell_type": "code",
   "execution_count": 31,
   "id": "69f86e51",
   "metadata": {},
   "outputs": [
    {
     "data": {
      "text/plain": [
       "(298249, 2)"
      ]
     },
     "execution_count": 31,
     "metadata": {},
     "output_type": "execute_result"
    }
   ],
   "source": [
    "df.shape"
   ]
  },
  {
   "cell_type": "code",
   "execution_count": 32,
   "id": "6c6698dd",
   "metadata": {},
   "outputs": [],
   "source": [
    "def clean_text(text):\n",
    "    text = str(text).lower()\n",
    "    text = re.sub(r'\\n', ' ', text)\n",
    "    text = re.sub(r'[^a-zA-Z\\s]', '', text)\n",
    "    text = re.sub(r'\\s+', ' ', text).strip()\n",
    "    tokens = text.split()\n",
    "    tokens = [w for w in tokens if w not in stop_words and len(w) > 2]\n",
    "    return ' '.join(tokens)"
   ]
  },
  {
   "cell_type": "code",
   "execution_count": 33,
   "id": "d1301fe6",
   "metadata": {},
   "outputs": [],
   "source": [
    "df['clean_question'] = df['question_text'].apply(clean_text)\n",
    "df = df[df['clean_question'].str.len() > 10]"
   ]
  },
  {
   "cell_type": "code",
   "execution_count": 34,
   "id": "082bd89c",
   "metadata": {},
   "outputs": [
    {
     "data": {
      "text/plain": [
       "(298052, 3)"
      ]
     },
     "execution_count": 34,
     "metadata": {},
     "output_type": "execute_result"
    }
   ],
   "source": [
    "df.shape"
   ]
  },
  {
   "cell_type": "code",
   "execution_count": 39,
   "id": "5fb861e8",
   "metadata": {},
   "outputs": [],
   "source": [
    "top_subjects = df['subject'].value_counts().nlargest(10).index.tolist()\n",
    "df_subject = df[df['subject'].isin(top_subjects)].copy()\n",
    "df_subject.reset_index(drop=True, inplace=True)"
   ]
  },
  {
   "cell_type": "code",
   "execution_count": 40,
   "id": "daef8214",
   "metadata": {},
   "outputs": [
    {
     "data": {
      "text/plain": [
       "(607, 3)"
      ]
     },
     "execution_count": 40,
     "metadata": {},
     "output_type": "execute_result"
    }
   ],
   "source": [
    "df_subject.shape"
   ]
  },
  {
   "cell_type": "code",
   "execution_count": 41,
   "id": "7b8ddd94",
   "metadata": {},
   "outputs": [],
   "source": [
    "## weak sentiment labeling\n",
    "from textblob import TextBlob\n",
    "def get_sentiment(text):\n",
    "    polarity = TextBlob(text).sentiment.polarity\n",
    "    if polarity > 0.1:\n",
    "        return 2  # Positive\n",
    "    elif polarity < -0.1:\n",
    "        return 0  # Negative\n",
    "    else:\n",
    "        return 1  # Neutral\n",
    "    "
   ]
  },
  {
   "cell_type": "code",
   "execution_count": 42,
   "id": "738b5d88",
   "metadata": {},
   "outputs": [],
   "source": [
    "df_subject['sentiment'] = df_subject['clean_question'].apply(get_sentiment)"
   ]
  },
  {
   "cell_type": "code",
   "execution_count": 43,
   "id": "78ebe729",
   "metadata": {},
   "outputs": [
    {
     "data": {
      "image/png": "[encoded data removed]",
      "text/plain": [
       "<Figure size 1000x400 with 1 Axes>"
      ]
     },
     "metadata": {},
     "output_type": "display_data"
    }
   ],
   "source": [
    "## Visualization\n",
    "plt.figure(figsize=(10, 4))\n",
    "sns.countplot(data=df_subject, x='subject', order=top_subjects)\n",
    "plt.xticks(rotation=45)\n",
    "plt.title(\"Top 10 Subjects Distribution\")\n",
    "plt.tight_layout()\n",
    "plt.show()"
   ]
  },
  {
   "cell_type": "code",
   "execution_count": 46,
   "id": "403486b8",
   "metadata": {},
   "outputs": [
    {
     "name": "stdout",
     "output_type": "stream",
     "text": [
      "Index(['question_text', 'subject', 'clean_question', 'sentiment'], dtype='object')\n"
     ]
    }
   ],
   "source": [
    "print(df_subject.columns)"
   ]
  },
  {
   "cell_type": "code",
   "execution_count": 47,
   "id": "ad64768d",
   "metadata": {},
   "outputs": [
    {
     "name": "stderr",
     "output_type": "stream",
     "text": [
      "C:\\Users\\LAKSHAY JAIN\\AppData\\Local\\Temp\\ipykernel_14540\\3461980378.py:5: FutureWarning: \n",
      "\n",
      "Passing `palette` without assigning `hue` is deprecated and will be removed in v0.14.0. Assign the `x` variable to `hue` and set `legend=False` for the same effect.\n",
      "\n",
      "  sns.countplot(data=df_subject, x='sentiment_label', palette='Set2')\n"
     ]
    },
    {
     "data": {
      "image/png": "[encoded data removed]",
      "text/plain": [
       "<Figure size 600x400 with 1 Axes>"
      ]
     },
     "metadata": {},
     "output_type": "display_data"
    }
   ],
   "source": [
    "label_map = {0: 'Negative', 1: 'Neutral', 2: 'Positive'}\n",
    "df_subject['sentiment_label'] = df_subject['sentiment'].map(label_map)\n",
    "\n",
    "plt.figure(figsize=(6, 4))\n",
    "sns.countplot(data=df_subject, x='sentiment_label', palette='Set2')\n",
    "plt.title(\"Sentiment Distribution (Including Neutral)\")\n",
    "plt.xlabel(\"Sentiment\")\n",
    "plt.ylabel(\"Count\")\n",
    "plt.tight_layout()\n",
    "plt.show()"
   ]
  },
  {
   "cell_type": "code",
   "execution_count": 50,
   "id": "4d3fdb5c",
   "metadata": {},
   "outputs": [],
   "source": [
    "df_subject[['clean_question', 'subject']].to_csv(\"clean_subject_data.csv\", index=False)\n",
    "df_subject[['clean_question', 'sentiment']].to_csv(\"clean_sentiment_data.csv\", index=False)"
   ]
  },
  {
   "cell_type": "code",
   "execution_count": null,
   "id": "4c6049df",
   "metadata": {},
   "outputs": [],
   "source": []
  },
  {
   "cell_type": "code",
   "execution_count": null,
   "id": "dc3d70ad",
   "metadata": {},
   "outputs": [],
   "source": []
  },
  {
   "cell_type": "code",
   "execution_count": null,
   "id": "f7beb3ee",
   "metadata": {},
   "outputs": [],
   "source": []
  },
  {
   "cell_type": "code",
   "execution_count": null,
   "id": "4b95ceb1",
   "metadata": {},
   "outputs": [],
   "source": []
  }
 ],
 "metadata": {
  "kernelspec": {
   "display_name": "venv",
   "language": "python",
   "name": "python3"
  },
  "language_info": {
   "codemirror_mode": {
    "name": "ipython",
    "version": 3
   },
   "file_extension": ".py",
   "mimetype": "text/x-python",
   "name": "python",
   "nbconvert_exporter": "python",
   "pygments_lexer": "ipython3",
   "version": "3.12.2"
  }
 },
 "nbformat": 4,
 "nbformat_minor": 5
}
